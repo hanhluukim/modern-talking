{
 "cells": [
  {
   "cell_type": "code",
   "execution_count": 29,
   "outputs": [],
   "source": [
    "from pathlib import Path"
   ],
   "metadata": {
    "collapsed": false,
    "pycharm": {
     "name": "#%%\n"
    }
   }
  },
  {
   "cell_type": "code",
   "execution_count": 30,
   "outputs": [
    {
     "data": {
      "text/plain": "PosixPath('/home/heinrich/University/Lectures/Natural Language Processing/Project/data')"
     },
     "execution_count": 30,
     "metadata": {},
     "output_type": "execute_result"
    }
   ],
   "source": [
    "data_dir = Path().resolve().parent / \"data\"\n",
    "data_dir"
   ],
   "metadata": {
    "collapsed": false,
    "pycharm": {
     "name": "#%%\n"
    }
   }
  },
  {
   "cell_type": "code",
   "execution_count": 31,
   "outputs": [],
   "source": [
    "import pandas"
   ],
   "metadata": {
    "collapsed": false,
    "pycharm": {
     "name": "#%%\n"
    }
   }
  },
  {
   "cell_type": "code",
   "execution_count": 32,
   "outputs": [
    {
     "data": {
      "text/plain": "         arg_id                                           argument  \\\n0       arg_4_0  having a school uniform can reduce bullying as...   \n1       arg_4_1             it is a good way to instill discipline   \n2       arg_4_2  it is cheaper for parents to buy school unifor...   \n3       arg_4_3  one of the benefits of school uniforms is that...   \n4       arg_4_4  researchers found that in schools across the w...   \n..          ...                                                ...   \n927  arg_15_222  we should end it and give people that are the ...   \n928  arg_15_223   we should end it so that every persons are equal   \n929  arg_15_224  we should evaluate candidates based solely on ...   \n930  arg_15_225  we should select people based on their merit o...   \n931  arg_15_226  yes, you should have to work your way to the t...   \n\n                                           topic  stance  \n0    We should abandon the use of school uniform      -1  \n1    We should abandon the use of school uniform      -1  \n2    We should abandon the use of school uniform      -1  \n3    We should abandon the use of school uniform      -1  \n4    We should abandon the use of school uniform      -1  \n..                                           ...     ...  \n927             We should end affirmative action       1  \n928             We should end affirmative action       1  \n929             We should end affirmative action       1  \n930             We should end affirmative action       1  \n931             We should end affirmative action       1  \n\n[932 rows x 4 columns]",
      "text/html": "<div>\n<style scoped>\n    .dataframe tbody tr th:only-of-type {\n        vertical-align: middle;\n    }\n\n    .dataframe tbody tr th {\n        vertical-align: top;\n    }\n\n    .dataframe thead th {\n        text-align: right;\n    }\n</style>\n<table border=\"1\" class=\"dataframe\">\n  <thead>\n    <tr style=\"text-align: right;\">\n      <th></th>\n      <th>arg_id</th>\n      <th>argument</th>\n      <th>topic</th>\n      <th>stance</th>\n    </tr>\n  </thead>\n  <tbody>\n    <tr>\n      <th>0</th>\n      <td>arg_4_0</td>\n      <td>having a school uniform can reduce bullying as...</td>\n      <td>We should abandon the use of school uniform</td>\n      <td>-1</td>\n    </tr>\n    <tr>\n      <th>1</th>\n      <td>arg_4_1</td>\n      <td>it is a good way to instill discipline</td>\n      <td>We should abandon the use of school uniform</td>\n      <td>-1</td>\n    </tr>\n    <tr>\n      <th>2</th>\n      <td>arg_4_2</td>\n      <td>it is cheaper for parents to buy school unifor...</td>\n      <td>We should abandon the use of school uniform</td>\n      <td>-1</td>\n    </tr>\n    <tr>\n      <th>3</th>\n      <td>arg_4_3</td>\n      <td>one of the benefits of school uniforms is that...</td>\n      <td>We should abandon the use of school uniform</td>\n      <td>-1</td>\n    </tr>\n    <tr>\n      <th>4</th>\n      <td>arg_4_4</td>\n      <td>researchers found that in schools across the w...</td>\n      <td>We should abandon the use of school uniform</td>\n      <td>-1</td>\n    </tr>\n    <tr>\n      <th>...</th>\n      <td>...</td>\n      <td>...</td>\n      <td>...</td>\n      <td>...</td>\n    </tr>\n    <tr>\n      <th>927</th>\n      <td>arg_15_222</td>\n      <td>we should end it and give people that are the ...</td>\n      <td>We should end affirmative action</td>\n      <td>1</td>\n    </tr>\n    <tr>\n      <th>928</th>\n      <td>arg_15_223</td>\n      <td>we should end it so that every persons are equal</td>\n      <td>We should end affirmative action</td>\n      <td>1</td>\n    </tr>\n    <tr>\n      <th>929</th>\n      <td>arg_15_224</td>\n      <td>we should evaluate candidates based solely on ...</td>\n      <td>We should end affirmative action</td>\n      <td>1</td>\n    </tr>\n    <tr>\n      <th>930</th>\n      <td>arg_15_225</td>\n      <td>we should select people based on their merit o...</td>\n      <td>We should end affirmative action</td>\n      <td>1</td>\n    </tr>\n    <tr>\n      <th>931</th>\n      <td>arg_15_226</td>\n      <td>yes, you should have to work your way to the t...</td>\n      <td>We should end affirmative action</td>\n      <td>1</td>\n    </tr>\n  </tbody>\n</table>\n<p>932 rows × 4 columns</p>\n</div>"
     },
     "execution_count": 32,
     "metadata": {},
     "output_type": "execute_result"
    }
   ],
   "source": [
    "arguments_dev = pandas.read_csv(data_dir / \"arguments_dev.csv\")\n",
    "arguments_dev"
   ],
   "metadata": {
    "collapsed": false,
    "pycharm": {
     "name": "#%%\n"
    }
   }
  },
  {
   "cell_type": "code",
   "execution_count": 33,
   "outputs": [
    {
     "data": {
      "text/plain": "          arg_id                                           argument  \\\n0        arg_0_0  `people reach their limit when it comes to the...   \n1        arg_0_1  A patient should be able to decide when they h...   \n2        arg_0_2  a person has the right to end their suffering ...   \n3        arg_0_3  a person should have the dignity to choose how...   \n4        arg_0_4  a person should have the right to be able to c...   \n...          ...                                                ...   \n5578  arg_27_218  we should subsidize vocational education to en...   \n5579  arg_27_219  We should subsidize vocational education to su...   \n5580  arg_27_220  While many who graduate from universities stru...   \n5581  arg_27_221  with the rising cost of college tuition vocati...   \n5582  arg_27_222  yes, we should subsidize vocational education ...   \n\n                                              topic  stance  \n0     Assisted suicide should be a criminal offence      -1  \n1     Assisted suicide should be a criminal offence      -1  \n2     Assisted suicide should be a criminal offence      -1  \n3     Assisted suicide should be a criminal offence      -1  \n4     Assisted suicide should be a criminal offence      -1  \n...                                             ...     ...  \n5578       We should subsidize vocational education       1  \n5579       We should subsidize vocational education       1  \n5580       We should subsidize vocational education       1  \n5581       We should subsidize vocational education       1  \n5582       We should subsidize vocational education       1  \n\n[5583 rows x 4 columns]",
      "text/html": "<div>\n<style scoped>\n    .dataframe tbody tr th:only-of-type {\n        vertical-align: middle;\n    }\n\n    .dataframe tbody tr th {\n        vertical-align: top;\n    }\n\n    .dataframe thead th {\n        text-align: right;\n    }\n</style>\n<table border=\"1\" class=\"dataframe\">\n  <thead>\n    <tr style=\"text-align: right;\">\n      <th></th>\n      <th>arg_id</th>\n      <th>argument</th>\n      <th>topic</th>\n      <th>stance</th>\n    </tr>\n  </thead>\n  <tbody>\n    <tr>\n      <th>0</th>\n      <td>arg_0_0</td>\n      <td>`people reach their limit when it comes to the...</td>\n      <td>Assisted suicide should be a criminal offence</td>\n      <td>-1</td>\n    </tr>\n    <tr>\n      <th>1</th>\n      <td>arg_0_1</td>\n      <td>A patient should be able to decide when they h...</td>\n      <td>Assisted suicide should be a criminal offence</td>\n      <td>-1</td>\n    </tr>\n    <tr>\n      <th>2</th>\n      <td>arg_0_2</td>\n      <td>a person has the right to end their suffering ...</td>\n      <td>Assisted suicide should be a criminal offence</td>\n      <td>-1</td>\n    </tr>\n    <tr>\n      <th>3</th>\n      <td>arg_0_3</td>\n      <td>a person should have the dignity to choose how...</td>\n      <td>Assisted suicide should be a criminal offence</td>\n      <td>-1</td>\n    </tr>\n    <tr>\n      <th>4</th>\n      <td>arg_0_4</td>\n      <td>a person should have the right to be able to c...</td>\n      <td>Assisted suicide should be a criminal offence</td>\n      <td>-1</td>\n    </tr>\n    <tr>\n      <th>...</th>\n      <td>...</td>\n      <td>...</td>\n      <td>...</td>\n      <td>...</td>\n    </tr>\n    <tr>\n      <th>5578</th>\n      <td>arg_27_218</td>\n      <td>we should subsidize vocational education to en...</td>\n      <td>We should subsidize vocational education</td>\n      <td>1</td>\n    </tr>\n    <tr>\n      <th>5579</th>\n      <td>arg_27_219</td>\n      <td>We should subsidize vocational education to su...</td>\n      <td>We should subsidize vocational education</td>\n      <td>1</td>\n    </tr>\n    <tr>\n      <th>5580</th>\n      <td>arg_27_220</td>\n      <td>While many who graduate from universities stru...</td>\n      <td>We should subsidize vocational education</td>\n      <td>1</td>\n    </tr>\n    <tr>\n      <th>5581</th>\n      <td>arg_27_221</td>\n      <td>with the rising cost of college tuition vocati...</td>\n      <td>We should subsidize vocational education</td>\n      <td>1</td>\n    </tr>\n    <tr>\n      <th>5582</th>\n      <td>arg_27_222</td>\n      <td>yes, we should subsidize vocational education ...</td>\n      <td>We should subsidize vocational education</td>\n      <td>1</td>\n    </tr>\n  </tbody>\n</table>\n<p>5583 rows × 4 columns</p>\n</div>"
     },
     "execution_count": 33,
     "metadata": {},
     "output_type": "execute_result"
    }
   ],
   "source": [
    "arguments_train = pandas.read_csv(data_dir / \"arguments_train.csv\")\n",
    "arguments_train"
   ],
   "metadata": {
    "collapsed": false,
    "pycharm": {
     "name": "#%%\n"
    }
   }
  },
  {
   "cell_type": "code",
   "execution_count": 34,
   "outputs": [
    {
     "data": {
      "text/plain": "   key_point_id                                          key_point  \\\n0        kp_4_0  Children can still express themselves using ot...   \n1        kp_4_1                    School uniform reduces bullying   \n2        kp_4_2  School uniforms encourage discipline or focus ...   \n3        kp_4_3                        School uniforms saves costs   \n4        kp_4_4   School uniforms create a sense of equality/unity   \n5        kp_4_5  School uniform is harming the student's self e...   \n6        kp_4_6                      School uniforms are expensive   \n7        kp_4_7     School uniforms are often uncomfortable/sexist   \n8        kp_4_8           School uniform harms learning/creativity   \n9        kp_4_9  School uniforms increase conformity or harm in...   \n10       kp_7_0                         Gun control is ineffective   \n11       kp_7_1                           Gun ownership is a right   \n12       kp_7_2  Gun ownership is necessary for hunting/sports-...   \n13       kp_7_3             Gun ownership promotes self protection   \n14       kp_7_4                      Banning guns would save lives   \n15       kp_7_5                 Guns can fall into the wrong hands   \n16       kp_7_6                     Guns lead to accidental deaths   \n17       kp_7_7  Gun ownership allows for mass-shootings/genera...   \n18       kp_8_0        Austerity cuts access to essential services   \n19       kp_8_1                        Austerity extend recessions   \n20       kp_8_2                Austerity is unfair to the citizens   \n21       kp_8_3                  Austerity results in lower growth   \n22       kp_8_4            Austerity results in lower job creation   \n23       kp_8_5           Austerity improves the economic measures   \n24       kp_8_6            Austerity is important in the long term   \n25       kp_8_7       Austerity is important to increase stability   \n26       kp_8_8  Austerity is necessary to reduce deficits or p...   \n27       kp_8_9  Austerity regime is essential in economically ...   \n28      kp_15_0                Affirmative action boosts diversity   \n29      kp_15_1  Affirmative action is necessary to compensate ...   \n30      kp_15_2          Affirmative action reduces discrimination   \n31      kp_15_3  Affirmative action diminishes the achievements...   \n32      kp_15_4                  Affirmative action is ineffective   \n33      kp_15_5                     Affirmative action is not just   \n34      kp_15_6           Affirmative action perpetuates prejudice   \n35      kp_15_7                 Affirmative action reduces quality   \n\n                                                topic  stance  \n0         We should abandon the use of school uniform      -1  \n1         We should abandon the use of school uniform      -1  \n2         We should abandon the use of school uniform      -1  \n3         We should abandon the use of school uniform      -1  \n4         We should abandon the use of school uniform      -1  \n5         We should abandon the use of school uniform       1  \n6         We should abandon the use of school uniform       1  \n7         We should abandon the use of school uniform       1  \n8         We should abandon the use of school uniform       1  \n9         We should abandon the use of school uniform       1  \n10  We should abolish the right to keep and bear arms      -1  \n11  We should abolish the right to keep and bear arms      -1  \n12  We should abolish the right to keep and bear arms      -1  \n13  We should abolish the right to keep and bear arms      -1  \n14  We should abolish the right to keep and bear arms       1  \n15  We should abolish the right to keep and bear arms       1  \n16  We should abolish the right to keep and bear arms       1  \n17  We should abolish the right to keep and bear arms       1  \n18                We should adopt an austerity regime      -1  \n19                We should adopt an austerity regime      -1  \n20                We should adopt an austerity regime      -1  \n21                We should adopt an austerity regime      -1  \n22                We should adopt an austerity regime      -1  \n23                We should adopt an austerity regime       1  \n24                We should adopt an austerity regime       1  \n25                We should adopt an austerity regime       1  \n26                We should adopt an austerity regime       1  \n27                We should adopt an austerity regime       1  \n28                   We should end affirmative action      -1  \n29                   We should end affirmative action      -1  \n30                   We should end affirmative action      -1  \n31                   We should end affirmative action       1  \n32                   We should end affirmative action       1  \n33                   We should end affirmative action       1  \n34                   We should end affirmative action       1  \n35                   We should end affirmative action       1  ",
      "text/html": "<div>\n<style scoped>\n    .dataframe tbody tr th:only-of-type {\n        vertical-align: middle;\n    }\n\n    .dataframe tbody tr th {\n        vertical-align: top;\n    }\n\n    .dataframe thead th {\n        text-align: right;\n    }\n</style>\n<table border=\"1\" class=\"dataframe\">\n  <thead>\n    <tr style=\"text-align: right;\">\n      <th></th>\n      <th>key_point_id</th>\n      <th>key_point</th>\n      <th>topic</th>\n      <th>stance</th>\n    </tr>\n  </thead>\n  <tbody>\n    <tr>\n      <th>0</th>\n      <td>kp_4_0</td>\n      <td>Children can still express themselves using ot...</td>\n      <td>We should abandon the use of school uniform</td>\n      <td>-1</td>\n    </tr>\n    <tr>\n      <th>1</th>\n      <td>kp_4_1</td>\n      <td>School uniform reduces bullying</td>\n      <td>We should abandon the use of school uniform</td>\n      <td>-1</td>\n    </tr>\n    <tr>\n      <th>2</th>\n      <td>kp_4_2</td>\n      <td>School uniforms encourage discipline or focus ...</td>\n      <td>We should abandon the use of school uniform</td>\n      <td>-1</td>\n    </tr>\n    <tr>\n      <th>3</th>\n      <td>kp_4_3</td>\n      <td>School uniforms saves costs</td>\n      <td>We should abandon the use of school uniform</td>\n      <td>-1</td>\n    </tr>\n    <tr>\n      <th>4</th>\n      <td>kp_4_4</td>\n      <td>School uniforms create a sense of equality/unity</td>\n      <td>We should abandon the use of school uniform</td>\n      <td>-1</td>\n    </tr>\n    <tr>\n      <th>5</th>\n      <td>kp_4_5</td>\n      <td>School uniform is harming the student's self e...</td>\n      <td>We should abandon the use of school uniform</td>\n      <td>1</td>\n    </tr>\n    <tr>\n      <th>6</th>\n      <td>kp_4_6</td>\n      <td>School uniforms are expensive</td>\n      <td>We should abandon the use of school uniform</td>\n      <td>1</td>\n    </tr>\n    <tr>\n      <th>7</th>\n      <td>kp_4_7</td>\n      <td>School uniforms are often uncomfortable/sexist</td>\n      <td>We should abandon the use of school uniform</td>\n      <td>1</td>\n    </tr>\n    <tr>\n      <th>8</th>\n      <td>kp_4_8</td>\n      <td>School uniform harms learning/creativity</td>\n      <td>We should abandon the use of school uniform</td>\n      <td>1</td>\n    </tr>\n    <tr>\n      <th>9</th>\n      <td>kp_4_9</td>\n      <td>School uniforms increase conformity or harm in...</td>\n      <td>We should abandon the use of school uniform</td>\n      <td>1</td>\n    </tr>\n    <tr>\n      <th>10</th>\n      <td>kp_7_0</td>\n      <td>Gun control is ineffective</td>\n      <td>We should abolish the right to keep and bear arms</td>\n      <td>-1</td>\n    </tr>\n    <tr>\n      <th>11</th>\n      <td>kp_7_1</td>\n      <td>Gun ownership is a right</td>\n      <td>We should abolish the right to keep and bear arms</td>\n      <td>-1</td>\n    </tr>\n    <tr>\n      <th>12</th>\n      <td>kp_7_2</td>\n      <td>Gun ownership is necessary for hunting/sports-...</td>\n      <td>We should abolish the right to keep and bear arms</td>\n      <td>-1</td>\n    </tr>\n    <tr>\n      <th>13</th>\n      <td>kp_7_3</td>\n      <td>Gun ownership promotes self protection</td>\n      <td>We should abolish the right to keep and bear arms</td>\n      <td>-1</td>\n    </tr>\n    <tr>\n      <th>14</th>\n      <td>kp_7_4</td>\n      <td>Banning guns would save lives</td>\n      <td>We should abolish the right to keep and bear arms</td>\n      <td>1</td>\n    </tr>\n    <tr>\n      <th>15</th>\n      <td>kp_7_5</td>\n      <td>Guns can fall into the wrong hands</td>\n      <td>We should abolish the right to keep and bear arms</td>\n      <td>1</td>\n    </tr>\n    <tr>\n      <th>16</th>\n      <td>kp_7_6</td>\n      <td>Guns lead to accidental deaths</td>\n      <td>We should abolish the right to keep and bear arms</td>\n      <td>1</td>\n    </tr>\n    <tr>\n      <th>17</th>\n      <td>kp_7_7</td>\n      <td>Gun ownership allows for mass-shootings/genera...</td>\n      <td>We should abolish the right to keep and bear arms</td>\n      <td>1</td>\n    </tr>\n    <tr>\n      <th>18</th>\n      <td>kp_8_0</td>\n      <td>Austerity cuts access to essential services</td>\n      <td>We should adopt an austerity regime</td>\n      <td>-1</td>\n    </tr>\n    <tr>\n      <th>19</th>\n      <td>kp_8_1</td>\n      <td>Austerity extend recessions</td>\n      <td>We should adopt an austerity regime</td>\n      <td>-1</td>\n    </tr>\n    <tr>\n      <th>20</th>\n      <td>kp_8_2</td>\n      <td>Austerity is unfair to the citizens</td>\n      <td>We should adopt an austerity regime</td>\n      <td>-1</td>\n    </tr>\n    <tr>\n      <th>21</th>\n      <td>kp_8_3</td>\n      <td>Austerity results in lower growth</td>\n      <td>We should adopt an austerity regime</td>\n      <td>-1</td>\n    </tr>\n    <tr>\n      <th>22</th>\n      <td>kp_8_4</td>\n      <td>Austerity results in lower job creation</td>\n      <td>We should adopt an austerity regime</td>\n      <td>-1</td>\n    </tr>\n    <tr>\n      <th>23</th>\n      <td>kp_8_5</td>\n      <td>Austerity improves the economic measures</td>\n      <td>We should adopt an austerity regime</td>\n      <td>1</td>\n    </tr>\n    <tr>\n      <th>24</th>\n      <td>kp_8_6</td>\n      <td>Austerity is important in the long term</td>\n      <td>We should adopt an austerity regime</td>\n      <td>1</td>\n    </tr>\n    <tr>\n      <th>25</th>\n      <td>kp_8_7</td>\n      <td>Austerity is important to increase stability</td>\n      <td>We should adopt an austerity regime</td>\n      <td>1</td>\n    </tr>\n    <tr>\n      <th>26</th>\n      <td>kp_8_8</td>\n      <td>Austerity is necessary to reduce deficits or p...</td>\n      <td>We should adopt an austerity regime</td>\n      <td>1</td>\n    </tr>\n    <tr>\n      <th>27</th>\n      <td>kp_8_9</td>\n      <td>Austerity regime is essential in economically ...</td>\n      <td>We should adopt an austerity regime</td>\n      <td>1</td>\n    </tr>\n    <tr>\n      <th>28</th>\n      <td>kp_15_0</td>\n      <td>Affirmative action boosts diversity</td>\n      <td>We should end affirmative action</td>\n      <td>-1</td>\n    </tr>\n    <tr>\n      <th>29</th>\n      <td>kp_15_1</td>\n      <td>Affirmative action is necessary to compensate ...</td>\n      <td>We should end affirmative action</td>\n      <td>-1</td>\n    </tr>\n    <tr>\n      <th>30</th>\n      <td>kp_15_2</td>\n      <td>Affirmative action reduces discrimination</td>\n      <td>We should end affirmative action</td>\n      <td>-1</td>\n    </tr>\n    <tr>\n      <th>31</th>\n      <td>kp_15_3</td>\n      <td>Affirmative action diminishes the achievements...</td>\n      <td>We should end affirmative action</td>\n      <td>1</td>\n    </tr>\n    <tr>\n      <th>32</th>\n      <td>kp_15_4</td>\n      <td>Affirmative action is ineffective</td>\n      <td>We should end affirmative action</td>\n      <td>1</td>\n    </tr>\n    <tr>\n      <th>33</th>\n      <td>kp_15_5</td>\n      <td>Affirmative action is not just</td>\n      <td>We should end affirmative action</td>\n      <td>1</td>\n    </tr>\n    <tr>\n      <th>34</th>\n      <td>kp_15_6</td>\n      <td>Affirmative action perpetuates prejudice</td>\n      <td>We should end affirmative action</td>\n      <td>1</td>\n    </tr>\n    <tr>\n      <th>35</th>\n      <td>kp_15_7</td>\n      <td>Affirmative action reduces quality</td>\n      <td>We should end affirmative action</td>\n      <td>1</td>\n    </tr>\n  </tbody>\n</table>\n</div>"
     },
     "execution_count": 34,
     "metadata": {},
     "output_type": "execute_result"
    }
   ],
   "source": [
    "key_points_dev = pandas.read_csv(data_dir / \"key_points_dev.csv\")\n",
    "key_points_dev"
   ],
   "metadata": {
    "collapsed": false,
    "pycharm": {
     "name": "#%%\n"
    }
   }
  },
  {
   "cell_type": "code",
   "execution_count": 35,
   "outputs": [
    {
     "data": {
      "text/plain": "    key_point_id                                          key_point  \\\n0         kp_0_0  Assisted suicide gives dignity to the person t...   \n1         kp_0_1                 Assisted suicide reduces suffering   \n2         kp_0_2  People should have the freedom to choose to en...   \n3         kp_0_3  The terminally ill would benefit from assisted...   \n4         kp_0_4  Assisted suicide allows people to solicit some...   \n..           ...                                                ...   \n202      kp_27_3      subsidizing vocational education is expensive   \n203      kp_27_4  subsidizing vocational education promotes thos...   \n204      kp_27_5       vocational education is a good career choice   \n205      kp_27_6     vocational education better fits many students   \n206      kp_27_7  vocational education is beneficial for the ent...   \n\n                                             topic  stance  \n0    Assisted suicide should be a criminal offence      -1  \n1    Assisted suicide should be a criminal offence      -1  \n2    Assisted suicide should be a criminal offence      -1  \n3    Assisted suicide should be a criminal offence      -1  \n4    Assisted suicide should be a criminal offence       1  \n..                                             ...     ...  \n202       We should subsidize vocational education      -1  \n203       We should subsidize vocational education       1  \n204       We should subsidize vocational education       1  \n205       We should subsidize vocational education       1  \n206       We should subsidize vocational education       1  \n\n[207 rows x 4 columns]",
      "text/html": "<div>\n<style scoped>\n    .dataframe tbody tr th:only-of-type {\n        vertical-align: middle;\n    }\n\n    .dataframe tbody tr th {\n        vertical-align: top;\n    }\n\n    .dataframe thead th {\n        text-align: right;\n    }\n</style>\n<table border=\"1\" class=\"dataframe\">\n  <thead>\n    <tr style=\"text-align: right;\">\n      <th></th>\n      <th>key_point_id</th>\n      <th>key_point</th>\n      <th>topic</th>\n      <th>stance</th>\n    </tr>\n  </thead>\n  <tbody>\n    <tr>\n      <th>0</th>\n      <td>kp_0_0</td>\n      <td>Assisted suicide gives dignity to the person t...</td>\n      <td>Assisted suicide should be a criminal offence</td>\n      <td>-1</td>\n    </tr>\n    <tr>\n      <th>1</th>\n      <td>kp_0_1</td>\n      <td>Assisted suicide reduces suffering</td>\n      <td>Assisted suicide should be a criminal offence</td>\n      <td>-1</td>\n    </tr>\n    <tr>\n      <th>2</th>\n      <td>kp_0_2</td>\n      <td>People should have the freedom to choose to en...</td>\n      <td>Assisted suicide should be a criminal offence</td>\n      <td>-1</td>\n    </tr>\n    <tr>\n      <th>3</th>\n      <td>kp_0_3</td>\n      <td>The terminally ill would benefit from assisted...</td>\n      <td>Assisted suicide should be a criminal offence</td>\n      <td>-1</td>\n    </tr>\n    <tr>\n      <th>4</th>\n      <td>kp_0_4</td>\n      <td>Assisted suicide allows people to solicit some...</td>\n      <td>Assisted suicide should be a criminal offence</td>\n      <td>1</td>\n    </tr>\n    <tr>\n      <th>...</th>\n      <td>...</td>\n      <td>...</td>\n      <td>...</td>\n      <td>...</td>\n    </tr>\n    <tr>\n      <th>202</th>\n      <td>kp_27_3</td>\n      <td>subsidizing vocational education is expensive</td>\n      <td>We should subsidize vocational education</td>\n      <td>-1</td>\n    </tr>\n    <tr>\n      <th>203</th>\n      <td>kp_27_4</td>\n      <td>subsidizing vocational education promotes thos...</td>\n      <td>We should subsidize vocational education</td>\n      <td>1</td>\n    </tr>\n    <tr>\n      <th>204</th>\n      <td>kp_27_5</td>\n      <td>vocational education is a good career choice</td>\n      <td>We should subsidize vocational education</td>\n      <td>1</td>\n    </tr>\n    <tr>\n      <th>205</th>\n      <td>kp_27_6</td>\n      <td>vocational education better fits many students</td>\n      <td>We should subsidize vocational education</td>\n      <td>1</td>\n    </tr>\n    <tr>\n      <th>206</th>\n      <td>kp_27_7</td>\n      <td>vocational education is beneficial for the ent...</td>\n      <td>We should subsidize vocational education</td>\n      <td>1</td>\n    </tr>\n  </tbody>\n</table>\n<p>207 rows × 4 columns</p>\n</div>"
     },
     "execution_count": 35,
     "metadata": {},
     "output_type": "execute_result"
    }
   ],
   "source": [
    "key_points_train = pandas.read_csv(data_dir / \"key_points_train.csv\")\n",
    "key_points_train"
   ],
   "metadata": {
    "collapsed": false,
    "pycharm": {
     "name": "#%%\n"
    }
   }
  },
  {
   "cell_type": "code",
   "execution_count": 36,
   "outputs": [],
   "source": [
    "# labels_dev = pandas.read_csv(data_dir / \"labels_dev.csv\")\n",
    "# labels_dev"
   ],
   "metadata": {
    "collapsed": false,
    "pycharm": {
     "name": "#%%\n"
    }
   }
  },
  {
   "cell_type": "code",
   "execution_count": 37,
   "outputs": [],
   "source": [
    "# labels_train = pandas.read_csv(data_dir / \"labels_train.csv\")\n",
    "# labels_train"
   ],
   "metadata": {
    "collapsed": false,
    "pycharm": {
     "name": "#%%\n"
    }
   }
  }
 ],
 "metadata": {
  "kernelspec": {
   "display_name": "Python 3",
   "language": "python",
   "name": "python3"
  },
  "language_info": {
   "codemirror_mode": {
    "name": "ipython",
    "version": 2
   },
   "file_extension": ".py",
   "mimetype": "text/x-python",
   "name": "python",
   "nbconvert_exporter": "python",
   "pygments_lexer": "ipython2",
   "version": "2.7.6"
  }
 },
 "nbformat": 4,
 "nbformat_minor": 0
}